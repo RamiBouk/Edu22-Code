{
 "cells": [
  {
   "cell_type": "markdown",
   "metadata": {},
   "source": [
    "# sorting algos\n",
    "## general defintion\n",
    "## implementing and studying differnt algos:\n",
    "### each algo title and short nice history and complexity\n",
    "## the function that draws or creates the data.\n",
    "## resutls\n",
    "\n",
    "\n"
   ]
  },
  {
   "cell_type": "markdown",
   "metadata": {},
   "source": [
    "# Sorting algorithms\n",
    "### General definition:\n",
    "The objective of a sorting algorithm it to put a list of values in either ascending or descending order.\n",
    "The efficiency of a sorting algorithm is evaluated by how little the process uses time and resources(memory). In the modern world memory is not as much of an issue as time. This project is meant to implement and then assess different sorting algorithms.\n",
    "## Implementing the different algorithms\n",
    " in this section we will implement the following algorithms in python(version 3.9):\n",
    " - Bubble sort\n",
    " - Merge sort\n",
    " - Quick sort\n",
    " - Insertion sort\n",
    " - Heap sort\n",
    " - Selection sort"
   ]
  },
  {
   "cell_type": "markdown",
   "metadata": {},
   "source": [
    "### Bubble sort:\n",
    "The way bubble sort function is by repeatably going through the list and comparing each element with the next. \n",
    "Swapping them when necessary until it passes through th full list without the need to swap any elements.\n",
    "Meaning the list is fully sorted."
   ]
  },
  {
   "cell_type": "code",
   "execution_count": 4,
   "metadata": {
    "notebookRunGroups": {
     "groupValue": ""
    }
   },
   "outputs": [],
   "source": [
    "def bubble_sort(array):\n",
    "    sorted=False\n",
    "    array_size=len(array)\n",
    "    while(not sorted):\n",
    "        sorted=True\n",
    "        for i in range(array_size-1):\n",
    "            if(array[i]>array[i+1]):\n",
    "                array[i+1],array[i]=array[i],array[i+1]\n",
    "                sorted=False\n",
    "    return array"
   ]
  },
  {
   "cell_type": "markdown",
   "metadata": {},
   "source": [
    "- Complexity: $O(n^2)$"
   ]
  },
  {
   "cell_type": "markdown",
   "metadata": {},
   "source": [
    "### Merge sort \n"
   ]
  },
  {
   "cell_type": "markdown",
   "metadata": {},
   "source": [
    "Merge sort is a divide and conquer algorithm that was invented by the famous physicians John von Neumann in 1945. \n",
    "It functions by continually splitting the list into sub lists until they are one element.\n",
    "Then merging each of the sub lists into a new sorted list."
   ]
  },
  {
   "cell_type": "code",
   "execution_count": 3,
   "metadata": {},
   "outputs": [],
   "source": [
    "def merge_sort(array):\n",
    "    length=len(array)\n",
    "    if(length==1):\n",
    "        return array\n",
    "    array1=merge_sort(array[:length//2])\n",
    "    array2=merge_sort(array[length//2:])\n",
    "    result_array=[]\n",
    "    while(len(array1) and len(array2)):\n",
    "        if(array1[0]<array2[0]):\n",
    "           result_array.append(array1.pop(0))\n",
    "        else:\n",
    "           result_array.append(array2.pop(0))\n",
    "    results_array=result_array+array1+array2\n",
    "    return results_array"
   ]
  },
  {
   "cell_type": "markdown",
   "metadata": {},
   "source": [
    "\n",
    "- Complexity: $O(n\\log n)$"
   ]
  },
  {
   "cell_type": "markdown",
   "metadata": {},
   "source": [
    "### Quick sort"
   ]
  },
  {
   "cell_type": "markdown",
   "metadata": {},
   "source": [
    "Quick sort is a sorting algorithm developer by Tony Hoare in 1959 and still in use today.\n",
    "It is another divide and conquer algorithm it works by choosing a pivot The splitting the list into two depending on if the are greater or less then the pivot."
   ]
  },
  {
   "cell_type": "code",
   "execution_count": 2,
   "metadata": {},
   "outputs": [],
   "source": [
    "def quick_sort(array):\n",
    "    if(len(array)==1):\n",
    "        return array\n",
    "    popped=array.pop()\n",
    "    sorted_array=quick_sort(array)\n",
    "    length=len(sorted_array)\n",
    "    if(popped>=sorted_array[length-1]):\n",
    "        sorted_array.append(popped)\n",
    "        return sorted_array\n",
    "    high,low=length-1,0\n",
    "    ## Using binary search to find the right placement\n",
    "    while(low<high):\n",
    "        mid=(high+low)//2\n",
    "        if(popped<=sorted_array[mid]):\n",
    "            high=mid\n",
    "        else:\n",
    "            low=mid+1\n",
    "    \n",
    "    sorted_array.insert(low,popped)\n",
    "    return sorted_array"
   ]
  },
  {
   "cell_type": "markdown",
   "metadata": {},
   "source": [
    "\n",
    "- Complexity: $O(n\\log n)$"
   ]
  },
  {
   "cell_type": "markdown",
   "metadata": {},
   "source": [
    "### Insertion sort"
   ]
  },
  {
   "cell_type": "markdown",
   "metadata": {},
   "source": [
    "Insertion sort is a sorting algorithm that is so simple it could be implemented in three line in C++.\n",
    "It function by going through the list and inserting each element into the part of the list is already ordered manner. "
   ]
  },
  {
   "cell_type": "code",
   "execution_count": 1,
   "metadata": {},
   "outputs": [],
   "source": [
    "\n",
    "def insertion_sort(array):\n",
    "    length=len(array)\n",
    "    for i in range(1,length):\n",
    "        j=i\n",
    "        while(j>0 and array[j-1]>array[j]):\n",
    "            array[j-1],array[j]=array[j],array[j-1]\n",
    "            j-=1\n",
    "    return array"
   ]
  },
  {
   "cell_type": "markdown",
   "metadata": {},
   "source": [
    "- Complexity: $O(n^2)$"
   ]
  },
  {
   "cell_type": "markdown",
   "metadata": {},
   "source": [
    "###  Heap sort"
   ]
  },
  {
   "cell_type": "markdown",
   "metadata": {},
   "source": [
    "improved selection sort\n",
    "extracts the largest element from the unsorted region\n",
    "\n"
   ]
  },
  {
   "cell_type": "code",
   "execution_count": 48,
   "metadata": {},
   "outputs": [],
   "source": [
    "def heapify(arr,length , root):\n",
    "    ## creates a heap assuming the two subtrees are already a heap\n",
    "    largest = root\n",
    "    left  = 2*root+1\n",
    "    right = 2*root+2\n",
    "    if left < length and arr[largest] < arr[left]:\n",
    "        largest = left\n",
    "    if right < length and arr[largest] < arr[right]:\n",
    "        largest = right\n",
    "    if largest != root:\n",
    "        arr[root], arr[largest] = arr[largest], arr[root]\n",
    "        heapify(arr, length, largest)\n",
    "\n",
    "\n",
    "def heap_sort(arr):\n",
    "    length = len(arr)\n",
    "    heapify(arr,length,1)\n",
    "    ## creating the heap from the bottom up (igonring the leafs)\n",
    "    for i in range(length//2 - 1, -1, -1):\n",
    "        heapify(arr, length, i)\n",
    "\n",
    "    # extracting the sorted array from the heap\n",
    "    for i in range(length-1, 0, -1):\n",
    "        arr[i], arr[0] = arr[0], arr[i]\n",
    "        heapify(arr, i, 0)\n",
    "    return arr"
   ]
  },
  {
   "cell_type": "markdown",
   "metadata": {},
   "source": [
    "### Selection sort"
   ]
  },
  {
   "cell_type": "markdown",
   "metadata": {},
   "source": []
  },
  {
   "cell_type": "code",
   "execution_count": null,
   "metadata": {},
   "outputs": [],
   "source": []
  },
  {
   "cell_type": "code",
   "execution_count": null,
   "metadata": {},
   "outputs": [],
   "source": [
    "\n",
    "def selection_sort(array):\n",
    "    if (len(array) == 1):\n",
    "        return array\n",
    "    min_index = 0\n",
    "    for i in range(len(array)):\n",
    "        if (array[i] < array[min_index]):\n",
    "            min_index = i\n",
    "    min = array.pop(min_index)\n",
    "    array = selection_sort(array)\n",
    "    array.insert(0, min)\n",
    "    return array\n"
   ]
  }
 ],
 "metadata": {
  "kernelspec": {
   "display_name": "Python 3.9.7 64-bit",
   "language": "python",
   "name": "python3"
  },
  "language_info": {
   "codemirror_mode": {
    "name": "ipython",
    "version": 3
   },
   "file_extension": ".py",
   "mimetype": "text/x-python",
   "name": "python",
   "nbconvert_exporter": "python",
   "pygments_lexer": "ipython3",
   "version": "3.10.6"
  },
  "orig_nbformat": 4,
  "vscode": {
   "interpreter": {
    "hash": "916dbcbb3f70747c44a77c7bcd40155683ae19c65e1c03b4aa3499c5328201f1"
   }
  }
 },
 "nbformat": 4,
 "nbformat_minor": 2
}
